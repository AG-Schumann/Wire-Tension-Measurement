{
 "cells": [
  {
   "cell_type": "markdown",
   "id": "338e6e58",
   "metadata": {},
   "source": [
    "# Before use: please run following cells once "
   ]
  },
  {
   "cell_type": "code",
   "execution_count": 1,
   "id": "9efd8149",
   "metadata": {},
   "outputs": [],
   "source": [
    "import RPi.GPIO as GPIO\n",
    "import time\n",
    "\n",
    "import os\n",
    "import sounddevice as sd\n",
    "from scipy.io.wavfile import write, read\n",
    "import RPi.GPIO as GPIO\n",
    "\n",
    "import matplotlib.pyplot as plt\n",
    "import numpy as np\n",
    "import scipy.fft\n",
    "from scipy.signal import find_peaks, peak_widths, savgol_filter\n",
    "import statistics\n",
    "import math\n",
    "\n",
    "\n",
    "from IPython.display import clear_output\n",
    "import time"
   ]
  },
  {
   "cell_type": "code",
   "execution_count": 2,
   "id": "89e0fe1f",
   "metadata": {},
   "outputs": [],
   "source": [
    "GPIO.setmode(GPIO.BCM)\n",
    "\n",
    "# Raspberry Pi Pin-Belegung für TB6600 Treiber\n",
    "DIR = 13\n",
    "PUL = 19\n",
    "ENA = 26\n",
    "\n",
    "DIR_Left = GPIO.HIGH\n",
    "DIR_Right = GPIO.LOW\n",
    "\n",
    "ENA_Locked = GPIO.LOW\n",
    "ENA_Released = GPIO.HIGH\n",
    "\n",
    "GPIO.setwarnings(False)\n",
    "GPIO.setup(DIR, GPIO.OUT)\n",
    "GPIO.setup(PUL, GPIO.OUT)\n",
    "GPIO.setup(ENA, GPIO.OUT)"
   ]
  },
  {
   "cell_type": "markdown",
   "id": "d23fab57",
   "metadata": {},
   "source": [
    "# Move"
   ]
  },
  {
   "cell_type": "code",
   "execution_count": 3,
   "id": "792e4034",
   "metadata": {},
   "outputs": [
    {
     "ename": "KeyboardInterrupt",
     "evalue": "Interrupted by user",
     "output_type": "error",
     "traceback": [
      "\u001b[0;31m---------------------------------------------------------------------------\u001b[0m",
      "\u001b[0;31mKeyboardInterrupt\u001b[0m                         Traceback (most recent call last)",
      "\u001b[0;32m<ipython-input-3-d6351641ec05>\u001b[0m in \u001b[0;36m<module>\u001b[0;34m\u001b[0m\n\u001b[0;32m----> 1\u001b[0;31m \u001b[0msteps\u001b[0m\u001b[0;34m=\u001b[0m\u001b[0mfloat\u001b[0m\u001b[0;34m(\u001b[0m\u001b[0minput\u001b[0m\u001b[0;34m(\u001b[0m\u001b[0;34m'distance in mm (pos. to the left, neg. to the right)'\u001b[0m\u001b[0;34m)\u001b[0m\u001b[0;34m)\u001b[0m\u001b[0;34m*\u001b[0m\u001b[0;36m3.35\u001b[0m\u001b[0;34m\u001b[0m\u001b[0;34m\u001b[0m\u001b[0m\n\u001b[0m\u001b[1;32m      2\u001b[0m \u001b[0mt\u001b[0m\u001b[0;34m=\u001b[0m\u001b[0mfloat\u001b[0m\u001b[0;34m(\u001b[0m\u001b[0minput\u001b[0m\u001b[0;34m(\u001b[0m\u001b[0;34m'time in seconds'\u001b[0m\u001b[0;34m)\u001b[0m\u001b[0;34m)\u001b[0m\u001b[0;34m\u001b[0m\u001b[0;34m\u001b[0m\u001b[0m\n\u001b[1;32m      3\u001b[0m \u001b[0;34m\u001b[0m\u001b[0m\n\u001b[1;32m      4\u001b[0m '''\n\u001b[1;32m      5\u001b[0m \u001b[0mmoves\u001b[0m \u001b[0mthe\u001b[0m \u001b[0msled\u001b[0m \u001b[0mby\u001b[0m \u001b[0ma\u001b[0m \u001b[0mcertain\u001b[0m \u001b[0mdistance\u001b[0m \u001b[0;32min\u001b[0m \u001b[0ma\u001b[0m \u001b[0mcertain\u001b[0m \u001b[0mtime\u001b[0m\u001b[0;34m.\u001b[0m\u001b[0;34m\u001b[0m\u001b[0;34m\u001b[0m\u001b[0m\n",
      "\u001b[0;32m/usr/lib/python3/dist-packages/ipykernel/kernelbase.py\u001b[0m in \u001b[0;36mraw_input\u001b[0;34m(self, prompt)\u001b[0m\n\u001b[1;32m    855\u001b[0m                 \u001b[0;34m\"raw_input was called, but this frontend does not support input requests.\"\u001b[0m\u001b[0;34m\u001b[0m\u001b[0;34m\u001b[0m\u001b[0m\n\u001b[1;32m    856\u001b[0m             )\n\u001b[0;32m--> 857\u001b[0;31m         return self._input_request(str(prompt),\n\u001b[0m\u001b[1;32m    858\u001b[0m             \u001b[0mself\u001b[0m\u001b[0;34m.\u001b[0m\u001b[0m_parent_ident\u001b[0m\u001b[0;34m,\u001b[0m\u001b[0;34m\u001b[0m\u001b[0;34m\u001b[0m\u001b[0m\n\u001b[1;32m    859\u001b[0m             \u001b[0mself\u001b[0m\u001b[0;34m.\u001b[0m\u001b[0m_parent_header\u001b[0m\u001b[0;34m,\u001b[0m\u001b[0;34m\u001b[0m\u001b[0;34m\u001b[0m\u001b[0m\n",
      "\u001b[0;32m/usr/lib/python3/dist-packages/ipykernel/kernelbase.py\u001b[0m in \u001b[0;36m_input_request\u001b[0;34m(self, prompt, ident, parent, password)\u001b[0m\n\u001b[1;32m    899\u001b[0m             \u001b[0;32mexcept\u001b[0m \u001b[0mKeyboardInterrupt\u001b[0m\u001b[0;34m:\u001b[0m\u001b[0;34m\u001b[0m\u001b[0;34m\u001b[0m\u001b[0m\n\u001b[1;32m    900\u001b[0m                 \u001b[0;31m# re-raise KeyboardInterrupt, to truncate traceback\u001b[0m\u001b[0;34m\u001b[0m\u001b[0;34m\u001b[0m\u001b[0;34m\u001b[0m\u001b[0m\n\u001b[0;32m--> 901\u001b[0;31m                 \u001b[0;32mraise\u001b[0m \u001b[0mKeyboardInterrupt\u001b[0m\u001b[0;34m(\u001b[0m\u001b[0;34m\"Interrupted by user\"\u001b[0m\u001b[0;34m)\u001b[0m \u001b[0;32mfrom\u001b[0m \u001b[0;32mNone\u001b[0m\u001b[0;34m\u001b[0m\u001b[0;34m\u001b[0m\u001b[0m\n\u001b[0m\u001b[1;32m    902\u001b[0m             \u001b[0;32mexcept\u001b[0m \u001b[0mException\u001b[0m \u001b[0;32mas\u001b[0m \u001b[0me\u001b[0m\u001b[0;34m:\u001b[0m\u001b[0;34m\u001b[0m\u001b[0;34m\u001b[0m\u001b[0m\n\u001b[1;32m    903\u001b[0m                 \u001b[0mself\u001b[0m\u001b[0;34m.\u001b[0m\u001b[0mlog\u001b[0m\u001b[0;34m.\u001b[0m\u001b[0mwarning\u001b[0m\u001b[0;34m(\u001b[0m\u001b[0;34m\"Invalid Message:\"\u001b[0m\u001b[0;34m,\u001b[0m \u001b[0mexc_info\u001b[0m\u001b[0;34m=\u001b[0m\u001b[0;32mTrue\u001b[0m\u001b[0;34m)\u001b[0m\u001b[0;34m\u001b[0m\u001b[0;34m\u001b[0m\u001b[0m\n",
      "\u001b[0;31mKeyboardInterrupt\u001b[0m: Interrupted by user"
     ]
    }
   ],
   "source": [
    "steps=float(input('distance in mm (pos. to the left, neg. to the right)'))*3.35 \n",
    "t=float(input('time in seconds'))\n",
    "\n",
    "'''\n",
    "moves the sled by a certain distance in a certain time. \n",
    "When looking onto the side of the sled with the laser, nozzle and diode: \n",
    "    - positive distance is movement to the left\n",
    "    - negative distance is movement to the right\n",
    "'''\n",
    "\n",
    "steps=int(round(steps))\n",
    "# aktivate motor and hold\n",
    "GPIO.output(ENA, ENA_Locked)\n",
    "\n",
    "# setting direction depending on pos. or neg. distance\n",
    "if (steps < 0):\n",
    "    GPIO.output(DIR, DIR_Right)\n",
    "    steps=steps*-1\n",
    "    direction=-1\n",
    "else:\n",
    "    GPIO.output(DIR, DIR_Left)\n",
    "    direction=1\n",
    "\n",
    "    \n",
    "t=t/(2*steps)\n",
    "\n",
    "for i in range(steps):\n",
    "    GPIO.output(PUL, GPIO.HIGH)\n",
    "    time.sleep(t)\n",
    "\n",
    "    GPIO.output(PUL, GPIO.LOW)\n",
    "    time.sleep(t)\n"
   ]
  },
  {
   "cell_type": "code",
   "execution_count": 3,
   "id": "8aaa8744",
   "metadata": {},
   "outputs": [],
   "source": [
    "# Release the stepper motor to move sled by hand or if not use for a longer time\n",
    "GPIO.output(ENA, ENA_Released) "
   ]
  },
  {
   "cell_type": "code",
   "execution_count": null,
   "id": "ab230e7b",
   "metadata": {},
   "outputs": [],
   "source": []
  }
 ],
 "metadata": {
  "kernelspec": {
   "display_name": "Python 3",
   "language": "python",
   "name": "python3"
  },
  "language_info": {
   "codemirror_mode": {
    "name": "ipython",
    "version": 3
   },
   "file_extension": ".py",
   "mimetype": "text/x-python",
   "name": "python",
   "nbconvert_exporter": "python",
   "pygments_lexer": "ipython3",
   "version": "3.9.2"
  }
 },
 "nbformat": 4,
 "nbformat_minor": 5
}
